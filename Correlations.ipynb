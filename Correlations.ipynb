{
 "cells": [
  {
   "cell_type": "code",
   "execution_count": 39,
   "metadata": {},
   "outputs": [],
   "source": [
    "import numpy as np\n",
    "import pandas as pd\n",
    "import matplotlib.pyplot as plt\n",
    "import os\n",
    "import csv\n",
    "from datetime import datetime\n",
    "import random\n",
    "import scipy.stats.stats as pearsonr"
   ]
  },
  {
   "cell_type": "code",
   "execution_count": 54,
   "metadata": {},
   "outputs": [],
   "source": [
    "# with open('C:/Users/Robin_Koester/Desktop/GANs/Energy_Data/DayAhead_hour_20152017.csv', newline = '') as csvfile:\n",
    "#     datareader = csv.reader(csvfile, delimiter = ';')\n",
    "with open('C:/Users/Robin Köster/Desktop/Studienarbeit ML/Energy_data/2015_2017_hourly_DEATLU_load_PV_wind_forecast_noNA.csv', newline = '') as csvfile:\n",
    "    datareader = csv.reader(csvfile, delimiter = ';')    \n",
    "    data_array = np.array(list(datareader))    \n",
    "    \n",
    "price_array = np.array([np.array(data_array[i]) for i in range(1,len(data_array))])\n",
    "\n",
    "prices = np.array(list(map(lambda it: float(price_array[it,4]) , range(len(price_array))) ))\n",
    "\n",
    "date_array = np.array(list(map(lambda it: datetime.strptime(price_array[it,0],'%d.%m.%Y %H:%M:%S') , range(len(price_array))) ))\n",
    "\n",
    "day_of_week_array = np.array(list(map(lambda date: datetime.weekday(date), date_array)))\n",
    "\n",
    "hour_array = np.array(list(map(lambda date: datetime.time(date).hour, date_array)))"
   ]
  },
  {
   "cell_type": "code",
   "execution_count": 62,
   "metadata": {},
   "outputs": [],
   "source": [
    "# create index array to calculate the correlations\n",
    "\n",
    "for hour in range(24):\n",
    "    ind_vec =  np.where(hour_array==hour)[0]\n",
    "    \n",
    "    if hour == 0:\n",
    "        ind_array = np.where(hour_array == hour)[0]\n",
    "        ind_array = ind_array[np.newaxis, :]\n",
    "    else:\n",
    "        add_ind_array = np.where(hour_array == hour)[0]\n",
    "        add_ind_array = add_ind_array[np.newaxis, :]\n",
    "        ind_array = np.concatenate((ind_array,add_ind_array), axis = 0)    "
   ]
  },
  {
   "cell_type": "code",
   "execution_count": 90,
   "metadata": {},
   "outputs": [],
   "source": [
    "# compute correlation coefficients for different hours of the day\n",
    "\n",
    "price_splitted_array = np.array(list(map(lambda hour: prices[ind_array[hour].tolist()] ,range(24))))\n",
    "\n",
    "corr_coeff = np.corrcoef(price_splitted_array)"
   ]
  },
  {
   "cell_type": "code",
   "execution_count": null,
   "metadata": {},
   "outputs": [],
   "source": [
    "# compute correlation coefficient for PV / price\n",
    "\n"
   ]
  },
  {
   "cell_type": "code",
   "execution_count": null,
   "metadata": {},
   "outputs": [],
   "source": [
    "# compute the variances and means for the prices hourly\n",
    "\n"
   ]
  }
 ],
 "metadata": {
  "kernelspec": {
   "display_name": "Python 3",
   "language": "python",
   "name": "python3"
  },
  "language_info": {
   "codemirror_mode": {
    "name": "ipython",
    "version": 3
   },
   "file_extension": ".py",
   "mimetype": "text/x-python",
   "name": "python",
   "nbconvert_exporter": "python",
   "pygments_lexer": "ipython3",
   "version": "3.6.4"
  }
 },
 "nbformat": 4,
 "nbformat_minor": 2
}
